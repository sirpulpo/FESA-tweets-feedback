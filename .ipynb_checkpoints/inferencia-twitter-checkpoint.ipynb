{
 "cells": [
  {
   "cell_type": "markdown",
   "metadata": {},
   "source": [
    "# Formular la pregunta"
   ]
  },
  {
   "cell_type": "markdown",
   "metadata": {},
   "source": [
    "![](http://mediossociales.es/wp-content/uploads/2012/01/twitter_futbol12.jpg)"
   ]
  },
  {
   "cell_type": "markdown",
   "metadata": {},
   "source": [
    "### ¿Cuál es la probabilidad de que un tweet que origina dentro de las coordenadas geográficas  [-99.30, 19.26, -98.22, 19.76] (Naucalpan y CDMX), contenga la palabra 'unam' (con cualquier composición de acentos y letras minúsculas y mayúsculas) al menos una vez?"
   ]
  },
  {
   "cell_type": "markdown",
   "metadata": {},
   "source": [
    "### ¿Cuál es la probabilidad de que un tweet que contiene la palabra 'unam' (con cualquier composición de acentos y letras minúsculas y mayúsculas), también contenga la palabra 'profesor' al menos una vez?"
   ]
  },
  {
   "cell_type": "markdown",
   "metadata": {},
   "source": [
    "### ¿Cuál es la probabilidad de que un tweet que proviene de las cuentas: [@FES_ACATLAN, @UNAM_MX, @BecariosUNAM & @UNAMdigital] contenga la palabra 'profesor' (con cualquier composición de acentos y letras minúsculas y mayúsculas) al menos una vez?"
   ]
  },
  {
   "cell_type": "markdown",
   "metadata": {},
   "source": [
    "\n",
    "# Recopilar datos"
   ]
  },
  {
   "cell_type": "code",
   "execution_count": 1,
   "metadata": {},
   "outputs": [],
   "source": [
    "# solo ejecutar una vez.\n",
    "#!pip3 install tweepy"
   ]
  },
  {
   "cell_type": "code",
   "execution_count": 1,
   "metadata": {},
   "outputs": [],
   "source": [
    "#import os\n",
    "# librerias del API de Twitter.\n",
    "import tweepy\n",
    "from tweepy import Stream\n",
    "\n",
    "from stream_listener import FiniteStreamListener"
   ]
  },
  {
   "cell_type": "markdown",
   "metadata": {},
   "source": [
    "### Cargar credenciales"
   ]
  },
  {
   "cell_type": "code",
   "execution_count": 2,
   "metadata": {},
   "outputs": [],
   "source": [
    "# JAMÁS SUBAS ESTO AL REPO!!!!\n",
    "CONSUMER_KEY = 'RjUHvc2hN5MnBy4QCwN7x72bs'\n",
    "CONSUMER_SECRET = 'y2CDccYPEqPgQjZuElrBGAp1W62l3lGUqGq9mewksgLsxXA2sf' \n",
    "ACCESS_TOKEN = '312694135-db4C0Oib3GIFOm4T0UTDH0PVux7ayUDJSnREiGzR'\n",
    "ACCESS_TOKEN_SECRET = 'HGbuYEvbYcsHPWqA7FGjYGTGZbyofslxr3IhxuENMh5Ap'"
   ]
  },
  {
   "cell_type": "code",
   "execution_count": 3,
   "metadata": {},
   "outputs": [],
   "source": [
    "#GEO_LOCATION_BOUNDING_BOX = [-78.31, 0.44, -70.71, 11.39] # colombia\n",
    "#GEO_LOCATION_BOUNDING_BOX = [-99.27, 19.45, -99.22, 19.50] # naucalpan.\n",
    "GEO_LOCATION_BOUNDING_BOX = [-99.30, 19.26, -98.22, 19.76] # naucalpan y CDMX.\n",
    "#GEO_LOCATION_BOUNDING_BOX = [-117.53, 14.46, -85.70, 32.40] # México.\n",
    "NUMBER_OF_TWEETS = 200"
   ]
  },
  {
   "cell_type": "code",
   "execution_count": 4,
   "metadata": {
    "scrolled": true
   },
   "outputs": [
    {
     "name": "stdout",
     "output_type": "stream",
     "text": [
      "RT @elheraldo_mx: Con esta exposición se conmemoran los 80 años del exilio español de la @UNAM_MX con actividades paralelas que se realizar…\n",
      "RT @RebecaClouthier: Ciudadana de tiempo completo desde mis veintitantos años...... https://t.co/dSUCSwtKRf\n",
      "RT @WiDS_Conference: #WiDS2019 returns to Mexico City next week hosted by ambassador Yalbi Balderas-Martinez of the @MxPyladies chapter. Vi…\n",
      "RT @Gaceta_UNAM: #DíaMundialDelTrasplante.👁\n",
      " ¿Sabías que el primer transplante de corazón❤ en México lo hizo un médico de la UNAM hace 31 a…\n",
      "RT @edantilope: 📚 ¡Recuerden que pueden comprar \"Amalgama\" (y el resto de nuestro catálogo) en nuestra tienda virtual de @Kichink! 📚 - Foto…\n",
      "RT @OFUNAM: ¡Hola @FES_ACATLAN! https://t.co/ACv3efzoe0\n",
      "Comienza el concierto de la Sección de Cuerdas de la @OFUNAM con su Director Huésped David Pérez Olmedo.… https://t.co/Jan7K5eADM\n",
      "\"Pero dónde cojones os habéis metido?\" (Carta de S. Pablo a los Liliputienses.)\n",
      "Los músicos de la @OFUNAM se preparan para deleitarnos con su concierto de la Sección de Cuerdas en el Barros Sierr… https://t.co/qEPEgLIIdW\n",
      "#HoyEnLaFIL dentro de las actividades de la @FILMineria, la FES Acatlán participa con cuatro presentaciones de libr… https://t.co/grnMaauvuV\n",
      "¿Cómo podemos modernizar y acelerar nuestra función analítica por medio de la plataforma de data warehouse? Partici… https://t.co/xOIHfvl0wo\n",
      "¿El futuro es como lo pintan los niños? Sí, al menos en el #Taller infantil de arte del @ccutlatelolco.… https://t.co/nAOHj5fAeo\n",
      "¿LISTOS EN LA NFC OESTE? 🔥🏈\n",
      "El campeón de esta división jugó el último Super Bowl, ¡de las más competitivas! ¿Qué r… https://t.co/KXwH3w6LfF\n",
      "Un día como hoy pero de 1881, nació José Vasconcelos. Fue quien organizó la primera campaña de alfabetización y la… https://t.co/k353lVLSxp\n",
      "Acceso a la consulta en línea de la «Ortografía de la lengua española». https://t.co/CQjmECVajD https://t.co/aqqIASRypd\n",
      "Cubs of red fox playing\n",
      "\n",
      "📹ig: takumi_matsuo https://t.co/10n8IOOo1Q\n",
      "Imparten taller sobre DENUE • Universitarios aprendieron cómo utilizar esta herramienta gratuita para caracterizar… https://t.co/tb4hGYQw2v\n",
      "El notable ensayista, ideólogo y político mexicano José Vasconcelos nació #UnDíaComoHoy de 1882. ¡Gracias a él repe… https://t.co/QXCnV7Pz27\n",
      "╱\n",
      "   ╲\n",
      "Muralismo \n",
      "　        ╲\n",
      "　        ╱\n",
      "Arquitectura\n",
      "  ╱\n",
      "   ╲\n",
      "Belleza\n",
      " 　       ╲\n",
      " 　            ╲\n",
      "¿A qué hora nos ve… https://t.co/fRr6PsdT8O\n",
      "Hola @aidrogo77 el listado completo de los directores de la RAE se encuentra en nuestra página web, puede consultar… https://t.co/q2QKHPlc8e\n"
     ]
    }
   ],
   "source": [
    "auth = tweepy.OAuthHandler(CONSUMER_KEY, CONSUMER_SECRET)\n",
    "auth.set_access_token(ACCESS_TOKEN, ACCESS_TOKEN_SECRET)\n",
    "\n",
    "api = tweepy.API(auth)\n",
    "\n",
    "# devuelve los 20 primeros tweets de la cuenta con la que se estableció la conexión.\n",
    "public_tweets = api.home_timeline()\n",
    "for tweet in public_tweets:\n",
    "    print(tweet.text)"
   ]
  },
  {
   "cell_type": "code",
   "execution_count": 5,
   "metadata": {},
   "outputs": [
    {
     "data": {
      "text/plain": [
       "20"
      ]
     },
     "execution_count": 5,
     "metadata": {},
     "output_type": "execute_result"
    }
   ],
   "source": [
    "len(public_tweets)"
   ]
  },
  {
   "cell_type": "markdown",
   "metadata": {},
   "source": [
    "auth = tweepy.OAuthHandler(CONSUMER_KEY, CONSUMER_SECRET)\n",
    "auth.set_access_token(ACCESS_TOKEN, ACCESS_TOKEN_SECRET)\n",
    "api = tweepy.API(auth)"
   ]
  },
  {
   "cell_type": "markdown",
   "metadata": {},
   "source": [
    "### Establecer una conexión al API de Twitter"
   ]
  },
  {
   "cell_type": "code",
   "execution_count": 5,
   "metadata": {},
   "outputs": [],
   "source": [
    "finite_stream_listener = FiniteStreamListener(number_of_tweets = NUMBER_OF_TWEETS)\n",
    "streaming_api = Stream(auth = auth, listener = finite_stream_listener)"
   ]
  },
  {
   "cell_type": "markdown",
   "metadata": {},
   "source": [
    "### Sorber del firehouse"
   ]
  },
  {
   "cell_type": "code",
   "execution_count": 6,
   "metadata": {},
   "outputs": [],
   "source": [
    "# de la conección al API, aplicamos un filtro para solo conservar los que pertenezcan a las coordenadas geográficas.\n",
    "# si funcionó pero la geolocalización es muy pequeña y tarda en hacer match con muchos datos\n",
    "streaming_api.filter(locations = GEO_LOCATION_BOUNDING_BOX)"
   ]
  },
  {
   "cell_type": "code",
   "execution_count": 6,
   "metadata": {
    "collapsed": true
   },
   "outputs": [
    {
     "name": "stderr",
     "output_type": "stream",
     "text": [
      "\n",
      "KeyboardInterrupt\n",
      "\n"
     ]
    }
   ],
   "source": [
    "# no sé si no funcione, o por qué se tarda tantisimo en cargar.\n",
    "streaming_api.filter(follow = ['50626996, 195150298, 94265190, 159296955'])"
   ]
  },
  {
   "cell_type": "code",
   "execution_count": 6,
   "metadata": {},
   "outputs": [],
   "source": [
    "streaming_api.filter(track = ['unam']) # así si funcionó."
   ]
  },
  {
   "cell_type": "code",
   "execution_count": 7,
   "metadata": {
    "scrolled": true
   },
   "outputs": [
    {
     "data": {
      "text/plain": [
       "['La UNAM estudia impacto de videojuegos en la sociedad. #UNAMglobal &gt; https://t.co/k7yUxYgFwK https://t.co/Ozu7fKS6XR',\n",
       " 'Vinculacion Unam Morelia invita al concierto de la agrupación: \"Bola Suriana\" hoy a las 18:00 en el Auditorio de la… https://t.co/wVaP05xyPR',\n",
       " 'La UNAM estudia impacto de videojuegos en la sociedad. #UNAMglobal &gt; https://t.co/2UEnd2pUHF https://t.co/F8J6n209Jx',\n",
       " 'RT @Pajaropolitico: La @UNAM_MX número 1 en América Latina y entre las mejores 20 universidades del mundo: @worlduniranking. 👏 https://t.co…',\n",
       " 'Asamblea de #profesores de la #UNAM  exigen justicia por el asesinato de #SamirFlores. #AguaSiTermoNo https://t.co/ZzAAhxqAlA',\n",
       " 'RT @Gaceta_UNAM: El corazón 💚 de la química, en el corazón de la UNAM. \\nNota📝 y galería de fotos👇🏼https://t.co/WgseZbaG6a',\n",
       " 'RT @econokafka: Con anteojeras ideológicas bien puestas, @Taibo2 destruye el prestigio de El Trimestre Económico de @FCEMexico. De Journal…',\n",
       " 'RT @Queretanizate: #Corregidora, primer municipio del estado en ofrecer termografías para la detección del #cáncer de mama.🙌\\n\\nEsto, gracias…',\n",
       " '#VenezuelaGritaLibertad',\n",
       " 'RT @TerritorioPumas: Proceso de elaboración del telón diseñado por los hinchas de la REBEL del equipo de Los Pumas de la UNAM, CDMX. \\nHecho…',\n",
       " '#TiempoyForma UNAM encabeza lista de las mejores universidades de América Latina https://t.co/WryILV1GDz',\n",
       " 'RT @FJDTepoz: Asamblea de #profesores de la #UNAM  exigen justicia por el asesinato de #SamirFlores. #AguaSiTermoNo https://t.co/ZzAAhxqAlA',\n",
       " 'RT @alfondiabolo: Orgullo UNAM: La\\xa0Universidad Nacional Autónoma de México\\xa0se posiciona como la\\xa0mejor institución\\xa0d educación superior\\xa0d Am…',\n",
       " 'Immensa #TaulaPeriòdica a la façana de @quimica_unam! 🤩\\n#aitp2019 #iypt2019',\n",
       " 'La Espiga, escultura de Rufino Tamayo en el CCU en CU #UNAM #México #CDMX @UNAM_MX #Arte #Cultura https://t.co/uy7aQoZh9S',\n",
       " 'RT @RaulContrerasMx: Nuevo ranking ubica a la UNAM en el Top 20 del mundo 👏\\n\\nhttps://t.co/dwnDgijf1n https://t.co/suLkSZgPZI',\n",
       " 'RT @RaulContrerasMx: Nuevo ranking ubica a la UNAM en el Top 20 del mundo 👏\\n\\nhttps://t.co/dwnDgijf1n https://t.co/suLkSZgPZI',\n",
       " 'RT @CCCMexico: Regístrate para particpar en las actividades gratuitas de la @CatedraBergman en el marco de @FICUNAM https://t.co/HhnnYknEAc…',\n",
       " '@RaulContrerasMx Qué gran orgullo ser UNAM',\n",
       " '@CESAR74MEX @taniaud @atheneac @santiblog8 @ITAM_mx @itam @unam Claro que es elitista. No cualquier bruto egresa. S… https://t.co/Rl5CF0j8ju',\n",
       " 'RT @Pajaropolitico: La @UNAM_MX número 1 en América Latina y entre las mejores 20 universidades del mundo: @worlduniranking. 👏 https://t.co…',\n",
       " 'RT @TXTUALes: Ratificaron @Mx_Diputados de la LXIV Legislatura su convicción de la vigencia absoluta de la #autonomía universitaria, y se c…',\n",
       " 'RT @SalaPrensaUNAM: La UNAM estudia impacto de videojuegos en la sociedad. #UNAMglobal &gt; https://t.co/k7yUxYgFwK https://t.co/Ozu7fKS6XR',\n",
       " '🔴  Sigue la transmisión en vivo del 4to Ciclo de Conferencias sobre Gobernanza Electoral \\nhttps://t.co/QBlpW3hJnC… https://t.co/kNLr0OCJXo',\n",
       " 'RT @CCCMexico: ¡Estamos a un día de @ficunam !\\nLa entrada es libre. Planea tu agenda y llega con tiempo 👉🏽 https://t.co/DINjW2bBvk https://…',\n",
       " 'RT @UNAM_FCPyS: 🔴  Sigue la transmisión en vivo del 4to Ciclo de Conferencias sobre Gobernanza Electoral \\nhttps://t.co/QBlpW3hJnC\\n\\n|| #CEP…',\n",
       " 'RT @Gaceta_UNAM: #DíaMundialDelTrasplante.👁\\n ¿Sabías que el primer transplante de corazón❤ en México lo hizo un médico de la UNAM hace 31 a…',\n",
       " 'Si entre tus propósitos para este 2019 está \"aprender algo nuevo\", aprovecha los #CursosGratuitos de la UNAM. \\n\\nhttps://t.co/tAsFGlyZ1B',\n",
       " 'RT @Gaceta_UNAM: El corazón 💚 de la química, en el corazón de la UNAM. \\nNota📝 y galería de fotos👇🏼https://t.co/WgseZbaG6a',\n",
       " 'Tuve pavor a las alturas hasta los 17 años. Así que un día fui a la asociación de montañismo de la UNAM y me hicier… https://t.co/jBx71vtdB0',\n",
       " 'RT @Lizgottik: \"El Tren Maya sí es un ECOCIDIO” \\n\\n“Estamos convencidos de que el verdadero desarrollo y progreso no pueden derivar de la de…',\n",
       " 'RT @econokafka: Con anteojeras ideológicas bien puestas, @Taibo2 destruye el prestigio de El Trimestre Económico de @FCEMexico. De Journal…',\n",
       " 'RT @Gaceta_UNAM: #DíaMundialDelTrasplante.👁\\n ¿Sabías que el primer transplante de corazón❤ en México lo hizo un médico de la UNAM hace 31 a…',\n",
       " 'RT @Pajaropolitico: La @UNAM_MX número 1 en América Latina y entre las mejores 20 universidades del mundo: @worlduniranking. 👏 https://t.co…',\n",
       " 'RT @ccutlatelolco: #IdeasParaTerminarLaQuincena ¡visita nuestros museos y exposiciones!\\nConsulta nuestros descuentos y planea tu visita 👉🏾…',\n",
       " 'RT @FelipeCalderon: El Tren Maya sí es un ecocidio, denuncian académicos de la UNAM e INAH https://t.co/gkRrkmHtAO vía @@PCMNoticias',\n",
       " 'De nada le sirve al cine mexicano ganar el Oscar @@Gaceta_UNAM https://t.co/2oUAZ06fTT',\n",
       " 'Motivo de orgullo nacional, fuente histórica de conocimiento, y terreno fértil para su generación. Hogar abierto a… https://t.co/rwfqf3GR6T',\n",
       " 'Un #Goya por mi Universidad.',\n",
       " 'RT @SUT_UNAM: Primera mesa del 4° Ciclo de Conferencias sobre Gobernanza Electoral, con la participación de Felipe Fuentes, Magistrado pres…',\n",
       " 'RT @iksnilepoguh: Mientras tanto en la UNAM... Pero de México. https://t.co/euBSLzOYB3',\n",
       " 'RT @Pajaropolitico: Lee más: https://t.co/ebZ2WdNtVh',\n",
       " 'RT @econokafka: Con anteojeras ideológicas bien puestas, @Taibo2 destruye el prestigio de El Trimestre Económico de @FCEMexico. De Journal…',\n",
       " 'RT @quimica_unam: Tabla Periódica Monumental de 600 m2 en la Facultad de Química de la Universidad Nacional Autónoma de México. https://t.c…',\n",
       " 'RT @eleconomista: La UNAM es reconocida como la mejor institución de educación superior en América Latina.\\n\\nhttps://t.co/jV9AHh89Zw',\n",
       " 'RT @FelipeCalderon: El Tren Maya sí es un ecocidio, denuncian académicos de la UNAM e INAH https://t.co/gkRrkmHtAO vía @@PCMNoticias',\n",
       " 'Pope St. Leo the Great vs. John \"throw the windows open\" XXIII\\nPope St. Gregory the Great vs. Paul \"New Mass\" VI\\nPo… https://t.co/GYz61fvv7Z',\n",
       " 'RT @FelipeCalderon: El Tren Maya sí es un ecocidio, denuncian académicos de la UNAM e INAH https://t.co/gkRrkmHtAO vía @@PCMNoticias',\n",
       " 'Asamblea de profesores de la UNAM exige justicia para Samir Flores https://t.co/WtcCWzbhr8',\n",
       " 'RT @CEPUNAM: Consulta la convocatoria para la Maestría en Ciencias (Física), Maestría en Ciencias (Física Médica) y Doctorado en Ciencias (…',\n",
       " 'Goya! La UNAM es la mejor universidad de Latinoamérica y está entre las mejores del mundo #Espectaculo\\nvía DianaSpa… https://t.co/f9qM2NYnZh',\n",
       " 'Habla César Cañedo, nuestro laureado Premio Bellas Artes de Poesía Aguascalientes 2019 🌹🇲🇽✒️\\n\\n\"Sigo escondiéndome... https://t.co/UTgjCcvBV0',\n",
       " 'La UNAM tiene más licenciaturas en el top 50 que cualquier otra universidad de la región. #HuixquiTv  https://t.co/zswxQSYyc7',\n",
       " 'RT @Lizgottik: \"El Tren Maya sí es un ECOCIDIO” \\n\\n“Estamos convencidos de que el verdadero desarrollo y progreso no pueden derivar de la de…',\n",
       " 'RT @ElInformanteMX: 27 de febrero de 1882 Nace en #Oaxaca, #JoséVasconcelos, político y pensador. Impulsó la educación popular, la #UNAM y…',\n",
       " 'You got this Fam',\n",
       " 'RT @TXTUALes: Ratificaron @Mx_Diputados de la LXIV Legislatura su convicción de la vigencia absoluta de la #autonomía universitaria, y se c…',\n",
       " 'RT @lriveroweber: #27Feb de 1882 nace José Vasconcelos, abogado, político, escritor, 9o. rector de la Universidad Nacional y fundador de la…',\n",
       " 'RT @XquipiGuiedani: #FICUNAM9 trae para ti el estreno de El ombligo de Guie’dani (Xquipi’ Guie’dani) en la Ciudad de México.\\nConoce más sob…',\n",
       " 'RT @FelipeCalderon: El Tren Maya sí es un ecocidio, denuncian académicos de la UNAM e INAH https://t.co/gkRrkmHtAO vía @@PCMNoticias',\n",
       " 'RT @eleconomista: La UNAM es reconocida como la mejor institución de educación superior en América Latina.\\n\\nhttps://t.co/jV9AHh89Zw',\n",
       " 'RT @Lizgottik: \"El Tren Maya sí es un ECOCIDIO” \\n\\n“Estamos convencidos de que el verdadero desarrollo y progreso no pueden derivar de la de…',\n",
       " 'RT @SalaPrensaUNAM: La UNAM estudia impacto de videojuegos en la sociedad. #UNAMglobal &gt; https://t.co/k7yUxYgFwK https://t.co/Ozu7fKS6XR',\n",
       " 'RT @CIEGUNAM: ¿Quieres saber más sobre el feminismo en México?\\n\\nDescarga de manera gratuita y en formato PDF este libro y conoce más al res…',\n",
       " 'Ser poeta en México es una vocación https://t.co/zxDyTdz5Qp',\n",
       " '@neonsteit Me acordé de una historia que me contó una de mis tías abuelas, de un caso de una chava de la UNAM que h… https://t.co/AiscsCgX07',\n",
       " 'RT @ProsocCDMX: En el marco de la graduación de alumnos del diplomado en materia condominal en la facultad de arquitectura de la UNAM, la p…',\n",
       " 'RT @alfondiabolo: Orgullo UNAM: La\\xa0Universidad Nacional Autónoma de México\\xa0se posiciona como la\\xa0mejor institución\\xa0d educación superior\\xa0d Am…',\n",
       " 'Están listos para la experiencia ?\\n\\n#Cine #Muestras #Festivales #UNAM https://t.co/HZvrGCtMMO',\n",
       " '#NuncaEsBuenaIdea que dejes para mañana lo que puedes reservar hoy. Entra ya a https://t.co/S7pxAEyYh3 https://t.co/mqwFj6iNid',\n",
       " 'Lidera la UNAM lista de mejores universidades de AL https://t.co/GDio4A4rxJ',\n",
       " 'La UNAM lidera la lista de mejores universidades en América Latina, revela nuevo ranking mundial https://t.co/B3BzjPuv1H',\n",
       " '📣#Entérate #Nacionales #RevistaIconoVer \\n⚠️⚠️⚠️⚠️⚠️\\n\\n⛔️LA UNAM SE POSICIONA EN EL PUESTO NÚMERO UNO EN LISTA DE MEJ… https://t.co/HjyNKUwxYM',\n",
       " 'RT @Pajaropolitico: La @UNAM_MX señala en una misiva que el equipo @flag_cuno es un \"equipo formal\" de la universidad y que operan de maner…',\n",
       " 'RT @iksnilepoguh: Mientras tanto en la UNAM... Pero de México. https://t.co/euBSLzOYB3',\n",
       " '@EstherM_Garcia @lopezobrador_ 2/2 los de la UNAM no quieren pagar cuotas como si al recibirse trabajaran gratis,… https://t.co/0dV9gC8MZS',\n",
       " 'La UNAM lidera la lista de mejores universidades en América Latina, revela nuevo ranking mundial https://t.co/8pINEBsJIN',\n",
       " 'RT @OliveiraSocorro: #VenezuelaLibre.                  O povo ora!! https://t.co/gyP66FyYqZ',\n",
       " 'RT @CCCMexico: Regístrate para particpar en las actividades gratuitas de la @CatedraBergman en el marco de @FICUNAM https://t.co/HhnnYknEAc…',\n",
       " 'Bendita UNAM hasta en los machetes hay promoción por ser parte de está majestuosa universidad 🙌',\n",
       " 'RT @AnitaLomeli: Xóchitl, la pequeña mexicana que ganó un premio de ciencia nuclear por su invento https://t.co/Shjm5tkqjm',\n",
       " 'RT @Gaceta_UNAM: #DíaMundialDelTrasplante.👁\\n ¿Sabías que el primer transplante de corazón❤ en México lo hizo un médico de la UNAM hace 31 a…',\n",
       " 'RT @Arquera_: La UNAM lidera la lista de mejores universidades en América Latina, revela nuevo ranking mundial https://t.co/B3BzjPuv1H',\n",
       " 'RT @jhacosta2: @lazago85 Un peloncito que reprobó examen de admisión en la U de Michoacán, luego en la UNAM, y estudió en la Libre de Derec…',\n",
       " 'RT @quimica_unam: Tabla Periódica Monumental de 600 m2 en la Facultad de Química de la Universidad Nacional Autónoma de México. https://t.c…',\n",
       " 'No, la UNAM no es una de las 20 mejores universidades del mundo. No hagan chistes crueles. Dependiendo a quien le c… https://t.co/MSoywciM8L',\n",
       " 'RT @lriveroweber: #27Feb de 1882 nace José Vasconcelos, abogado, político, escritor, 9o. rector de la Universidad Nacional y fundador de la…',\n",
       " 'RT @UNAM_FCPyS: Convocatoria: Concurso de debate FCPyS 2019  || #FCPyS  #UNAM https://t.co/a4oHmZlemo',\n",
       " 'RT @alfondiabolo: Orgullo UNAM: La\\xa0Universidad Nacional Autónoma de México\\xa0se posiciona como la\\xa0mejor institución\\xa0d educación superior\\xa0d Am…',\n",
       " '¡Goya!',\n",
       " 'Desde nuestra máxima casa de estudios, José Vasconcelos configuró el proyecto de la @SEP_mx. Este día te invitamos… https://t.co/xh1cSUGsmr',\n",
       " 'RT @JavierQ_Tapia: Apreciable comunidad comparto mi artículo “Código de Ética: un Código de Voluntad” publicado en Revista Hechos y Derecho…',\n",
       " '#UnDíaComoHoy, pero de 1882, nació José Vasconcelos, uno de los grandes impulsores de la educación en México. Su tr… https://t.co/wDZLncHwXl',\n",
       " 'RT @alfondiabolo: Orgullo UNAM: La\\xa0Universidad Nacional Autónoma de México\\xa0se posiciona como la\\xa0mejor institución\\xa0d educación superior\\xa0d Am…',\n",
       " 'Goya! La UNAM es la mejor universidad de Latinoamérica y está entre las mejores del mundo #Espectaculo\\nvía DianaSpa… https://t.co/rZ5VMwaew1',\n",
       " 'RT @Pajaropolitico: La @UNAM_MX señala en una misiva que el equipo @flag_cuno es un \"equipo formal\" de la universidad y que operan de maner…',\n",
       " 'RT @FelipeCalderon: El Tren Maya sí es un ecocidio, denuncian académicos de la UNAM e INAH https://t.co/gkRrkmHtAO vía @@PCMNoticias',\n",
       " '#GobernanzaElectoral en la Facultad de Ciencias Políticas y Sociales de la UNAM. / Reflexiones que le hacen falta a… https://t.co/0K4HFUZk8A',\n",
       " 'RT @BPOGobMx: Desde nuestra máxima casa de estudios, José Vasconcelos configuró el proyecto de la @SEP_mx. Este día te invitamos a consulta…',\n",
       " 'RT @FelipeCalderon: El Tren Maya sí es un ecocidio, denuncian académicos de la UNAM e INAH https://t.co/gkRrkmHtAO vía @@PCMNoticias',\n",
       " 'RT @UNAM_FCPyS: Foro: Petróleo y Seguridad Nacional. El Rescate de la Nación. \\n\\n|| #FCPyS #UNAM https://t.co/BxumUZDWBQ',\n",
       " 'Continuando con las actividades dentro del marco de @FICUNAM, @CatedraBergman presenta la conferencia magistral de… https://t.co/8OQBmqffA0',\n",
       " 'Los estudiantes de la UNaM....en armonía con la naturaleza!👏👏',\n",
       " 'RT @FelipeCalderon: El Tren Maya sí es un ecocidio, denuncian académicos de la UNAM e INAH https://t.co/gkRrkmHtAO vía @@PCMNoticias',\n",
       " 'RT @hugoromerom: Today, we, professors of International Trade Law in the Faculty of Law (UNAM) held a very productive meeting chaired by @R…',\n",
       " 'La Universidad Nacional Autónoma de México (#UNAM) está entre las mejores 20 universidades del mundo y es la mejor… https://t.co/QWyJlEccVZ',\n",
       " 'RT @salmon71: @QuimicaEuskadi @DaniEPAP Ahora lo entiendo todo https://t.co/Zr70sNaIXw',\n",
       " 'RT @SinEmbargoMX: La UNAM se posiciona como la mejor institución de educación superior de América Latina, según el QS World University Rank…',\n",
       " 'Artista nahua gana reconocimiento en Inglaterra https://t.co/Zw7FgCsdax',\n",
       " 'Nuevo ranking ubica a la UNAM en el Top 20 del mundo https://t.co/unhSJTRDMf',\n",
       " 'RT @mael_toto: UNAM encabeza lista de las mejores universidades de América Latina https://t.co/FQ8pRWr49X',\n",
       " 'Por acá nos pueden seguir en vivo!',\n",
       " 'RT @cantabro: Consultora internacional posiciona a UNAM como la mejor de AL https://t.co/dVpozpyVRO',\n",
       " 'RT @Pajaropolitico: La @UNAM_MX número 1 en América Latina y entre las mejores 20 universidades del mundo: @worlduniranking. 👏 https://t.co…',\n",
       " 'RT @g_champini: machos: URRRDUR OLHA ESSE POST IT AQUI NO BANHEIRO FALANDO SOBRE FEMINISMO UUUUH TAMO SENDO ATACADO AI SOCORRO ATAQUE FEMIN…',\n",
       " 'RT @lriveroweber: #27Feb de 1882 nace José Vasconcelos, abogado, político, escritor, 9o. rector de la Universidad Nacional y fundador de la…',\n",
       " 'RT @LeonardoCurzio: La Universidad Nacional, transparente 100 por ciento: Inai @@Gaceta_UNAM https://t.co/9yChzODPSz',\n",
       " 'RT @Gaceta_UNAM: La UNAM lidera a las universidades de América Latina. Coloca dos programas entre los 20 mejores del mundo, de acuerdo con…',\n",
       " 'RT @Gaceta_UNAM: #DíaMundialDelTrasplante.👁\\n ¿Sabías que el primer transplante de corazón❤ en México lo hizo un médico de la UNAM hace 31 a…',\n",
       " 'RT @JavierQ_Tapia: Apreciable comunidad comparto mi artículo “Código de Ética: un Código de Voluntad” publicado en Revista Hechos y Derecho…',\n",
       " '@Gaceta_UNAM Orgullo Azul y Oro, la historia de México, también va de la mano de la historia de la UNAM',\n",
       " '@Excelsior me gustaria q fuera la unam, o la la de chapingo, por q como no dicen el nombre parece q estan adivinando cual es',\n",
       " 'RT @JavierQ_Tapia: Apreciable comunidad comparto mi artículo “El trinomio anticorrupción” publicado en Revista Hechos y Derechos, de querid…',\n",
       " 'RT @comentamah: Se eu posso dar um conselho pra torcida das gêmeas, é: vocês são uma torcida grande. Vocês são numerosos. Vocês até fazem a…',\n",
       " 'RT @IconoVeracruz: 📣#Entérate #Nacionales #RevistaIconoVer \\n⚠️⚠️⚠️⚠️⚠️\\n\\n⛔️LA UNAM SE POSICIONA EN EL PUESTO NÚMERO UNO EN LISTA DE MEJORES…',\n",
       " 'Sigue la transmisión de la segunda sesión del Ciclo de Conferencias sobre Movilidades Contemporáneas y Derecho de A… https://t.co/XmTmLu2wW7',\n",
       " 'RT @FelipeCalderon: El Tren Maya sí es un ecocidio, denuncian académicos de la UNAM e INAH https://t.co/gkRrkmHtAO vía @@PCMNoticias',\n",
       " 'La UNAM encabeza lista de las mejores universidades de Latinoamérica @eleconomista  https://t.co/TEM9hVsdrF',\n",
       " 'RT @jAlfonsoHerrera: Ensayo de algunos ayeres para un homenaje:\\n\\n«Tribunal Constitucional y Unión Europea. El caso español a propósito de l…',\n",
       " 'RT @lriveroweber: #27Feb de 1882 nace José Vasconcelos, abogado, político, escritor, 9o. rector de la Universidad Nacional y fundador de la…',\n",
       " 'RT @econokafka: Con anteojeras ideológicas bien puestas, @Taibo2 destruye el prestigio de El Trimestre Económico de @FCEMexico. De Journal…',\n",
       " 'UNAM encabeza lista de las mejores universidades de América\\xa0Latina https://t.co/ylne5gxUtK',\n",
       " 'UNAM encabeza lista de las mejores universidades de América\\xa0Latina https://t.co/vfVdRkSxzg',\n",
       " 'UNAM encabeza lista de las mejores universidades de América\\xa0Latina https://t.co/1gy8l2MQJI',\n",
       " 'UNAM encabeza lista de las mejores universidades de América\\xa0Latina https://t.co/4exRpgvSC2',\n",
       " 'UNAM encabeza lista de las mejores universidades de América\\xa0Latina https://t.co/WznnCn9jrC',\n",
       " 'RT @locatel_mx: #UnDíaComoHoy de 1882 nació el ensayista y político mexicano, José Vasconcelos, titular de la Secretaría de Instrucción Púb…',\n",
       " 'RT @FelipeCalderon: El Tren Maya sí es un ecocidio, denuncian académicos de la UNAM e INAH https://t.co/gkRrkmHtAO vía @@PCMNoticias',\n",
       " 'Lidera la UNAM lista de mejores universidades de AL\\n\\nhttps://t.co/nPvhf96Qb8\\n\\nDe acuerdo con el QS World University… https://t.co/Qn3es3kgTR',\n",
       " 'RT @RaulContrerasMx: Nuevo ranking ubica a la UNAM en el Top 20 del mundo 👏\\n\\nhttps://t.co/dwnDgijf1n https://t.co/suLkSZgPZI',\n",
       " 'RT @FelipeCalderon: El Tren Maya sí es un ecocidio, denuncian académicos de la UNAM e INAH https://t.co/gkRrkmHtAO vía @@PCMNoticias',\n",
       " 'RT @Foro_TV: ¿Ya viste la tabla periódica gigante en la UNAM? https://t.co/blPhuj9Y3p https://t.co/8vtPInnGd5',\n",
       " 'RT @gcerveravalee: La @UNAM_MX revisará la Reforma Hacendaria\\n\\nhttps://t.co/FzMgdtyU85',\n",
       " 'El desplegado suscrito por investigadores del IEST, ITAM, UAM, UNAM, COLMEX, y funcionarios de Banxico, entre ellos… https://t.co/JYNPOBpw9D',\n",
       " 'Un artículo de los amigos de #mecate Tabla periódica gigante en la UNAM https://t.co/ptBoeNR5Xa',\n",
       " 'RT @FelipeCalderon: El Tren Maya sí es un ecocidio, denuncian académicos de la UNAM e INAH https://t.co/gkRrkmHtAO vía @@PCMNoticias',\n",
       " 'RT @FelipeCalderon: El Tren Maya sí es un ecocidio, denuncian académicos de la UNAM e INAH https://t.co/gkRrkmHtAO vía @@PCMNoticias',\n",
       " '“Diferenciación en hijos de #padresdivorciados y de padres que viven juntos,” se presenta una breve discusión acerc… https://t.co/3USiIRjh7Q',\n",
       " '#UnDíaComoHoy pero de 1882 nace en Oaxaca el abogado, político, escritor, educador, funcionario público y filósofo… https://t.co/DkjtmRXcsw',\n",
       " '¡Arriba la inclusión! Profesor con discapacidad firma contrato con la #UNAM\\nhttps://t.co/Nsj9vLwD86',\n",
       " 'UNAM revisará la reforma hacendaria. https://t.co/Prs0o9QhUY',\n",
       " 'Nike Pumas UNAM 2016\\xa0–\\xa02017\\xa03rd Match Jersey (Azul Marino) (S) https://t.co/WHpetM4R0G ==&gt; Puedes encontrar una lis… https://t.co/2riaMf6T5x',\n",
       " 'RT @alfondiabolo: Orgullo UNAM: La\\xa0Universidad Nacional Autónoma de México\\xa0se posiciona como la\\xa0mejor institución\\xa0d educación superior\\xa0d Am…',\n",
       " 'El Centro de Estudios en Administración Pública presente en la FIL 2019.',\n",
       " 'RT @Pajaropolitico: La @UNAM_MX número 1 en América Latina y entre las mejores 20 universidades del mundo: @worlduniranking. 👏 https://t.co…',\n",
       " '#América: La UNAM se coloca como la mejor de Latinoamérica y está entre las 20 mejores del mundo. https://t.co/iZxV7YW0OS',\n",
       " '#AgendaFlacso. Asiste al seminario Immigration Demand and the Boomerang of Deportation Policies: Was the Central Am… https://t.co/GAvwoAoEyq',\n",
       " 'RT @FelipeCalderon: El Tren Maya sí es un ecocidio, denuncian académicos de la UNAM e INAH https://t.co/gkRrkmHtAO vía @@PCMNoticias',\n",
       " '#UNAM primer lugar en América latina.\\n#OrgulloUNAM',\n",
       " 'RT @ororadio: Consulta aquí 👇🏾todos los detalles que compartió Benjamín Alonso Smith Arango, rector de la @URSEOaxaca, sobre los cursos que…',\n",
       " 'RT @Gaceta_UNAM: El corazón 💚 de la química, en el corazón de la UNAM. \\nNota📝 y galería de fotos👇🏼https://t.co/WgseZbaG6a',\n",
       " 'RT @IIJUNAM: Sigue la transmisión en vivo del \\n1er. Congreso nacional: la administración pública de la cuarta transformación\\n#JurídicasEnVi…',\n",
       " 'RT @Pajaropolitico: La @UNAM_MX número 1 en América Latina y entre las mejores 20 universidades del mundo: @worlduniranking. 👏 https://t.co…',\n",
       " 'RT @Communicare3_0: ¡Buen día a todos!\\nEstamos contentos de comunicarles que ya tenemos confirmados para nuestra Jornada de Periodismo Digi…',\n",
       " 'El desplegado suscrito por investigadores del ITESM, ITAM, UAM, UNAM, COLMEX, y funcionarios de Banxico, entre ello… https://t.co/YcKe6wuYPL',\n",
       " 'RT @BPOGobMx: Desde nuestra máxima casa de estudios, José Vasconcelos configuró el proyecto de la @SEP_mx. Este día te invitamos a consulta…',\n",
       " '#Nacional De acuerdo con el ranking realizado por el QS World University Ranking, la @UNAM_MX, se colocó como la me… https://t.co/ANwlRHScaw',\n",
       " 'Determinación del Salario Base de Cotización y el efecto de la UMA para 2019 https://t.co/AS4lu5990O Colaboración d… https://t.co/ZTZkQApzWP',\n",
       " 'RT @Pajaropolitico: La @UNAM_MX número 1 en América Latina y entre las mejores 20 universidades del mundo: @worlduniranking. 👏 https://t.co…',\n",
       " '¿Ya fueron a ver la nueva cara de la Facultad de Química?',\n",
       " '“Por mi raza hablará el espíritu”, el despertar de una larga noche de opresión: Vasconcelos https://t.co/gvhAdmfz1N',\n",
       " 'Hoy en Sinergia Tecnológica nos acompaña en entrevista telefónica Luis Aguilar del Instituto de Geofísica de la UNA… https://t.co/qdCBK7Oj1L',\n",
       " 'Medicamento contra el cáncer, creado por la #UNAM será probado en humanos. \\n\\nhttps://t.co/vAIfR5JYZq https://t.co/Utrg3RTqhg',\n",
       " 'RT @BPOGobMx: Desde nuestra máxima casa de estudios, José Vasconcelos configuró el proyecto de la @SEP_mx. Este día te invitamos a consulta…',\n",
       " '@NinaRomano7 Para darle un ilustración, la carrera en administración pública de @elcolmex (una de las mejores del p… https://t.co/7yLvAgra2z',\n",
       " '#UnDíaComoHoy pero de 1882 nace en #Oaxaca el abogado, político, escritor, educador, funcionario público y filósofo… https://t.co/ExlRzztFia',\n",
       " 'RT @Gaceta_UNAM: La UNAM lidera a las universidades de América Latina. Coloca dos programas entre los 20 mejores del mundo, de acuerdo con…',\n",
       " 'RT @diario24horas: La @UNAM_MX tiene más licenciaturas en el top 50 que cualquier otra universidad de la región\\nhttps://t.co/qBWry1HSSF',\n",
       " 'Un artículo interesante del equipo de Tabla periódica gigante en la UNAM https://t.co/8sFDYUNVCe',\n",
       " 'RT @quimica_unam: Tabla Periódica Monumental de 600 m2 en la Facultad de Química de la Universidad Nacional Autónoma de México. https://t.c…',\n",
       " 'RT @Pajaropolitico: La @UNAM_MX número 1 en América Latina y entre las mejores 20 universidades del mundo: @worlduniranking. 👏 https://t.co…',\n",
       " 'No es el primero por lo menos conozco 4 que ya trabajan ahí https://t.co/6Sh2mFYXGb',\n",
       " '#Nacional\\n\\n🏫Lidera la UNAM lista de mejores universidades de AL\\n\\nMás información aquí: ⬇\\nhttps://t.co/PoHZ6OIqiK https://t.co/e21PpmfpKN',\n",
       " 'A warm welcome for our @UUKIntl delegation at UNAM in Mexico City.  Beautiful campus and really interesting discuss… https://t.co/p8vrQmps3j',\n",
       " '#AudienciasPúblicas Ángel Celorio Guevara, Maestro en Derecho laboral por la #UNAM señala que es evidente la trasce… https://t.co/ajCFwgITi8',\n",
       " 'RT @lajornadaonline: #CU emitió 49.58 toneladas métricas de dióxido de carbono equivalentes (MtCO2 eq), de acuerdo con el Inventario de Gas…',\n",
       " 'En el comedor de la UNaM (Facultad de ingeniería, Oberá) empezaron a suplantar la carne vacuna con carne de cerdo.… https://t.co/LiRkPAWIV1',\n",
       " '\"El espíritu de una revista académica implica en el marco del respeto a la libertad de ideas, aceptar artículos par… https://t.co/WMY7qeQFwc',\n",
       " 'es mas, algunas carreras tienen materias extracurricular (económicas en mnes) como potugués e inglés; y para los ch… https://t.co/cn4sWPGBUt',\n",
       " 'For those who happen to be in Mexico: I am presenting our latest research with @realDLeblang at Flacso Mexico next… https://t.co/RryzfrbtYk',\n",
       " 'RT @Pajaropolitico: La @UNAM_MX número 1 en América Latina y entre las mejores 20 universidades del mundo: @worlduniranking. 👏 https://t.co…',\n",
       " 'Lidera la UNAM lista de mejores universidades de AL https://t.co/EsxBvUqCtu',\n",
       " 'El Tren Maya sí es un ecocidio, denuncian académicos de la UNAM e INAH https://t.co/fGJzV0lmaa vía @@PCMNoticias',\n",
       " 'RT @ChilangoCom: De tu arte a mi arte, prefiero la tabla periódica gigante que pusieron en la #UNAM 😱😱\\nhttps://t.co/crB3VHe4qP',\n",
       " 'RT @OscarGonzalezYa: En la firma del convenio entre la @UNAM y la Cámara de Diputados \\u2066@Mx_Diputados\\u2069 el papel de la #UNAM en la vida públi…',\n",
       " 'La UNAM se contradice y desacredita a equipo femenil que denunció hostigamiento https://t.co/hStftNUxsf https://t.co/jsVO2RbHf8',\n",
       " '@El_Universal_Mx Ahí van otra vez...... PODER ABSOLUTO es lo q amlo quiere, no sea que lo critiquen, el buen nombre… https://t.co/3Adl0ugcl3',\n",
       " '¡Ya vienen! Convocatoria de inscripción a los cursos y talleres para el trimestre abril - junio 2019 de Casa del La… https://t.co/TZtmPsvNqo',\n",
       " 'RT @macunaimaz: “À noite o povo venezuelano se ajoelhou diante de Deus diante do bloqueio imposto por Maduro para que as portas se abrissem…',\n",
       " 'RT @UNAM_FCPyS: 🔴  Sigue la transmisión en vivo del 4to Ciclo de Conferencias sobre Gobernanza Electoral \\nhttps://t.co/QBlpW3hJnC\\n\\n|| #CEP…']"
      ]
     },
     "execution_count": 7,
     "metadata": {},
     "output_type": "execute_result"
    }
   ],
   "source": [
    "finite_stream_listener.tweets"
   ]
  },
  {
   "cell_type": "code",
   "execution_count": 8,
   "metadata": {},
   "outputs": [
    {
     "data": {
      "text/plain": [
       "200"
      ]
     },
     "execution_count": 8,
     "metadata": {},
     "output_type": "execute_result"
    }
   ],
   "source": [
    "len(finite_stream_listener.tweets)"
   ]
  },
  {
   "cell_type": "markdown",
   "metadata": {},
   "source": [
    "# Limpiar datos"
   ]
  },
  {
   "cell_type": "code",
   "execution_count": 9,
   "metadata": {},
   "outputs": [],
   "source": [
    "# !pip install unidecode\n",
    "from unidecode import unidecode"
   ]
  },
  {
   "cell_type": "markdown",
   "metadata": {},
   "source": [
    "### Definir funciones de limpieza"
   ]
  },
  {
   "cell_type": "code",
   "execution_count": 10,
   "metadata": {},
   "outputs": [],
   "source": [
    "def make_lowercase(tweet):\n",
    "    return tweet.lower()\n",
    "\n",
    "\n",
    "def remove_diacritics(tweet):\n",
    "    return unidecode(tweet)\n",
    "\n",
    "\n",
    "def remove_non_alpha_characters(tweet):\n",
    "    return ''.join(character for character in tweet if character.isalpha() or character == ' ')"
   ]
  },
  {
   "cell_type": "markdown",
   "metadata": {},
   "source": [
    "### Aplicar las funciones"
   ]
  },
  {
   "cell_type": "code",
   "execution_count": 11,
   "metadata": {},
   "outputs": [],
   "source": [
    "cleaned_tweets = list(finite_stream_listener.tweets)\n",
    "\n",
    "for cleaning_function in [make_lowercase, remove_diacritics, remove_non_alpha_characters]:\n",
    "    cleaned_tweets = [cleaning_function(tweet) for tweet in cleaned_tweets]"
   ]
  },
  {
   "cell_type": "code",
   "execution_count": 12,
   "metadata": {},
   "outputs": [
    {
     "data": {
      "text/plain": [
       "['la unam estudia impacto de videojuegos en la sociedad unamglobal gt httpstcokyuxygfwk httpstcoozufksxr',\n",
       " 'vinculacion unam morelia invita al concierto de la agrupacion bola suriana hoy a las  en el auditorio de la httpstcowvapxypr',\n",
       " 'la unam estudia impacto de videojuegos en la sociedad unamglobal gt httpstcouendpuhf httpstcofjnjx',\n",
       " 'rt pajaropolitico la unammx numero  en america latina y entre las mejores  universidades del mundo worlduniranking  httpstco',\n",
       " 'asamblea de profesores de la unam  exigen justicia por el asesinato de samirflores aguasitermono httpstcozzaahxqala',\n",
       " 'rt gacetaunam el corazon  de la quimica en el corazon de la unam nota y galeria de fotoshttpstcowgsezbaga',\n",
       " 'rt econokafka con anteojeras ideologicas bien puestas taibo destruye el prestigio de el trimestre economico de fcemexico de journal',\n",
       " 'rt queretanizate corregidora primer municipio del estado en ofrecer termografias para la deteccion del cancer de mamaesto gracias',\n",
       " 'venezuelagritalibertad',\n",
       " 'rt territoriopumas proceso de elaboracion del telon disenado por los hinchas de la rebel del equipo de los pumas de la unam cdmx hecho',\n",
       " 'tiempoyforma unam encabeza lista de las mejores universidades de america latina httpstcowryilvgdz',\n",
       " 'rt fjdtepoz asamblea de profesores de la unam  exigen justicia por el asesinato de samirflores aguasitermono httpstcozzaahxqala',\n",
       " 'rt alfondiabolo orgullo unam la universidad nacional autonoma de mexico se posiciona como la mejor institucion d educacion superior d am',\n",
       " 'immensa taulaperiodica a la facana de quimicaunam aitp iypt',\n",
       " 'la espiga escultura de rufino tamayo en el ccu en cu unam mexico cdmx unammx arte cultura httpstcouyaqozhs',\n",
       " 'rt raulcontrerasmx nuevo ranking ubica a la unam en el top  del mundo httpstcodwndgijfn httpstcosulkszgpzi',\n",
       " 'rt raulcontrerasmx nuevo ranking ubica a la unam en el top  del mundo httpstcodwndgijfn httpstcosulkszgpzi',\n",
       " 'rt cccmexico registrate para particpar en las actividades gratuitas de la catedrabergman en el marco de ficunam httpstcohhnnykneac',\n",
       " 'raulcontrerasmx que gran orgullo ser unam',\n",
       " 'cesarmex taniaud atheneac santiblog itammx itam unam claro que es elitista no cualquier bruto egresa s httpstcorlcfjju',\n",
       " 'rt pajaropolitico la unammx numero  en america latina y entre las mejores  universidades del mundo worlduniranking  httpstco',\n",
       " 'rt txtuales ratificaron mxdiputados de la lxiv legislatura su conviccion de la vigencia absoluta de la autonomia universitaria y se c',\n",
       " 'rt salaprensaunam la unam estudia impacto de videojuegos en la sociedad unamglobal gt httpstcokyuxygfwk httpstcoozufksxr',\n",
       " '  sigue la transmision en vivo del to ciclo de conferencias sobre gobernanza electoral httpstcoqblpwhjnc httpstcoknlrocjxo',\n",
       " 'rt cccmexico estamos a un dia de ficunam la entrada es libre planea tu agenda y llega con tiempo  httpstcodinjwbbvk https',\n",
       " 'rt unamfcpys   sigue la transmision en vivo del to ciclo de conferencias sobre gobernanza electoral httpstcoqblpwhjnc cep',\n",
       " 'rt gacetaunam diamundialdeltrasplante sabias que el primer transplante de corazon en mexico lo hizo un medico de la unam hace  a',\n",
       " 'si entre tus propositos para este  esta aprender algo nuevo aprovecha los cursosgratuitos de la unam httpstcotasfglyzb',\n",
       " 'rt gacetaunam el corazon  de la quimica en el corazon de la unam nota y galeria de fotoshttpstcowgsezbaga',\n",
       " 'tuve pavor a las alturas hasta los  anos asi que un dia fui a la asociacion de montanismo de la unam y me hicier httpstcojbxvtdb',\n",
       " 'rt lizgottik el tren maya si es un ecocidio estamos convencidos de que el verdadero desarrollo y progreso no pueden derivar de la de',\n",
       " 'rt econokafka con anteojeras ideologicas bien puestas taibo destruye el prestigio de el trimestre economico de fcemexico de journal',\n",
       " 'rt gacetaunam diamundialdeltrasplante sabias que el primer transplante de corazon en mexico lo hizo un medico de la unam hace  a',\n",
       " 'rt pajaropolitico la unammx numero  en america latina y entre las mejores  universidades del mundo worlduniranking  httpstco',\n",
       " 'rt ccutlatelolco ideasparaterminarlaquincena visita nuestros museos y exposicionesconsulta nuestros descuentos y planea tu visita ',\n",
       " 'rt felipecalderon el tren maya si es un ecocidio denuncian academicos de la unam e inah httpstcogkrrkmhtao via pcmnoticias',\n",
       " 'de nada le sirve al cine mexicano ganar el oscar gacetaunam httpstcoouazftt',\n",
       " 'motivo de orgullo nacional fuente historica de conocimiento y terreno fertil para su generacion hogar abierto a httpstcorwfqfgrt',\n",
       " 'un goya por mi universidad',\n",
       " 'rt sutunam primera mesa del deg ciclo de conferencias sobre gobernanza electoral con la participacion de felipe fuentes magistrado pres',\n",
       " 'rt iksnilepoguh mientras tanto en la unam pero de mexico httpstcoeubslzoyb',\n",
       " 'rt pajaropolitico lee mas httpstcoebzwdntvh',\n",
       " 'rt econokafka con anteojeras ideologicas bien puestas taibo destruye el prestigio de el trimestre economico de fcemexico de journal',\n",
       " 'rt quimicaunam tabla periodica monumental de  m en la facultad de quimica de la universidad nacional autonoma de mexico httpstc',\n",
       " 'rt eleconomista la unam es reconocida como la mejor institucion de educacion superior en america latinahttpstcojvahhzw',\n",
       " 'rt felipecalderon el tren maya si es un ecocidio denuncian academicos de la unam e inah httpstcogkrrkmhtao via pcmnoticias',\n",
       " 'pope st leo the great vs john throw the windows open xxiiipope st gregory the great vs paul new mass vipo httpstcogyzfvvz',\n",
       " 'rt felipecalderon el tren maya si es un ecocidio denuncian academicos de la unam e inah httpstcogkrrkmhtao via pcmnoticias',\n",
       " 'asamblea de profesores de la unam exige justicia para samir flores httpstcowtccwzbhr',\n",
       " 'rt cepunam consulta la convocatoria para la maestria en ciencias fisica maestria en ciencias fisica medica y doctorado en ciencias ',\n",
       " 'goya la unam es la mejor universidad de latinoamerica y esta entre las mejores del mundo espectaculovia dianaspa httpstcofqmnynzh',\n",
       " 'habla cesar canedo nuestro laureado premio bellas artes de poesia aguascalientes  sigo escondiendome httpstcoutgjccvbv',\n",
       " 'la unam tiene mas licenciaturas en el top  que cualquier otra universidad de la region huixquitv  httpstcozswxqsyyc',\n",
       " 'rt lizgottik el tren maya si es un ecocidio estamos convencidos de que el verdadero desarrollo y progreso no pueden derivar de la de',\n",
       " 'rt elinformantemx  de febrero de  nace en oaxaca josevasconcelos politico y pensador impulso la educacion popular la unam y',\n",
       " 'you got this fam',\n",
       " 'rt txtuales ratificaron mxdiputados de la lxiv legislatura su conviccion de la vigencia absoluta de la autonomia universitaria y se c',\n",
       " 'rt lriveroweber feb de  nace jose vasconcelos abogado politico escritor o rector de la universidad nacional y fundador de la',\n",
       " 'rt xquipiguiedani ficunam trae para ti el estreno de el ombligo de guiedani xquipi guiedani en la ciudad de mexicoconoce mas sob',\n",
       " 'rt felipecalderon el tren maya si es un ecocidio denuncian academicos de la unam e inah httpstcogkrrkmhtao via pcmnoticias',\n",
       " 'rt eleconomista la unam es reconocida como la mejor institucion de educacion superior en america latinahttpstcojvahhzw',\n",
       " 'rt lizgottik el tren maya si es un ecocidio estamos convencidos de que el verdadero desarrollo y progreso no pueden derivar de la de',\n",
       " 'rt salaprensaunam la unam estudia impacto de videojuegos en la sociedad unamglobal gt httpstcokyuxygfwk httpstcoozufksxr',\n",
       " 'rt ciegunam quieres saber mas sobre el feminismo en mexicodescarga de manera gratuita y en formato pdf este libro y conoce mas al res',\n",
       " 'ser poeta en mexico es una vocacion httpstcozxdytdzqp',\n",
       " 'neonsteit me acorde de una historia que me conto una de mis tias abuelas de un caso de una chava de la unam que h httpstcoaiscscgx',\n",
       " 'rt prosoccdmx en el marco de la graduacion de alumnos del diplomado en materia condominal en la facultad de arquitectura de la unam la p',\n",
       " 'rt alfondiabolo orgullo unam la universidad nacional autonoma de mexico se posiciona como la mejor institucion d educacion superior d am',\n",
       " 'estan listos para la experiencia cine muestras festivales unam httpstcohzvrgctmmo',\n",
       " 'nuncaesbuenaidea que dejes para manana lo que puedes reservar hoy entra ya a httpstcospxaeyyh httpstcomqwfjinid',\n",
       " 'lidera la unam lista de mejores universidades de al httpstcogdioarxj',\n",
       " 'la unam lidera la lista de mejores universidades en america latina revela nuevo ranking mundial httpstcobbzjpuvh',\n",
       " 'enterate nacionales revistaiconover la unam se posiciona en el puesto numero uno en lista de mej httpstcohjynkuwxym',\n",
       " 'rt pajaropolitico la unammx senala en una misiva que el equipo flagcuno es un equipo formal de la universidad y que operan de maner',\n",
       " 'rt iksnilepoguh mientras tanto en la unam pero de mexico httpstcoeubslzoyb',\n",
       " 'esthermgarcia lopezobrador  los de la unam no quieren pagar cuotas como si al recibirse trabajaran gratis httpstcodvgcmzs',\n",
       " 'la unam lidera la lista de mejores universidades en america latina revela nuevo ranking mundial httpstcopinebsjin',\n",
       " 'rt oliveirasocorro venezuelalibre                  o povo ora httpstcogypfyyqz',\n",
       " 'rt cccmexico registrate para particpar en las actividades gratuitas de la catedrabergman en el marco de ficunam httpstcohhnnykneac',\n",
       " 'bendita unam hasta en los machetes hay promocion por ser parte de esta majestuosa universidad ',\n",
       " 'rt anitalomeli xochitl la pequena mexicana que gano un premio de ciencia nuclear por su invento httpstcoshjmtkqjm',\n",
       " 'rt gacetaunam diamundialdeltrasplante sabias que el primer transplante de corazon en mexico lo hizo un medico de la unam hace  a',\n",
       " 'rt arquera la unam lidera la lista de mejores universidades en america latina revela nuevo ranking mundial httpstcobbzjpuvh',\n",
       " 'rt jhacosta lazago un peloncito que reprobo examen de admision en la u de michoacan luego en la unam y estudio en la libre de derec',\n",
       " 'rt quimicaunam tabla periodica monumental de  m en la facultad de quimica de la universidad nacional autonoma de mexico httpstc',\n",
       " 'no la unam no es una de las  mejores universidades del mundo no hagan chistes crueles dependiendo a quien le c httpstcomsoywciml',\n",
       " 'rt lriveroweber feb de  nace jose vasconcelos abogado politico escritor o rector de la universidad nacional y fundador de la',\n",
       " 'rt unamfcpys convocatoria concurso de debate fcpys    fcpys  unam httpstcoaohmzlemo',\n",
       " 'rt alfondiabolo orgullo unam la universidad nacional autonoma de mexico se posiciona como la mejor institucion d educacion superior d am',\n",
       " 'goya',\n",
       " 'desde nuestra maxima casa de estudios jose vasconcelos configuro el proyecto de la sepmx este dia te invitamos httpstcoxhcsugsmr',\n",
       " 'rt javierqtapia apreciable comunidad comparto mi articulo codigo de etica un codigo de voluntad publicado en revista hechos y derecho',\n",
       " 'undiacomohoy pero de  nacio jose vasconcelos uno de los grandes impulsores de la educacion en mexico su tr httpstcowdzlnchwxl',\n",
       " 'rt alfondiabolo orgullo unam la universidad nacional autonoma de mexico se posiciona como la mejor institucion d educacion superior d am',\n",
       " 'goya la unam es la mejor universidad de latinoamerica y esta entre las mejores del mundo espectaculovia dianaspa httpstcorzvmwaew',\n",
       " 'rt pajaropolitico la unammx senala en una misiva que el equipo flagcuno es un equipo formal de la universidad y que operan de maner',\n",
       " 'rt felipecalderon el tren maya si es un ecocidio denuncian academicos de la unam e inah httpstcogkrrkmhtao via pcmnoticias',\n",
       " 'gobernanzaelectoral en la facultad de ciencias politicas y sociales de la unam  reflexiones que le hacen falta a httpstcokhfuzka',\n",
       " 'rt bpogobmx desde nuestra maxima casa de estudios jose vasconcelos configuro el proyecto de la sepmx este dia te invitamos a consulta',\n",
       " 'rt felipecalderon el tren maya si es un ecocidio denuncian academicos de la unam e inah httpstcogkrrkmhtao via pcmnoticias',\n",
       " 'rt unamfcpys foro petroleo y seguridad nacional el rescate de la nacion  fcpys unam httpstcobxumuzdwbq',\n",
       " 'continuando con las actividades dentro del marco de ficunam catedrabergman presenta la conferencia magistral de httpstcooqbmqffa',\n",
       " 'los estudiantes de la unamen armonia con la naturaleza',\n",
       " 'rt felipecalderon el tren maya si es un ecocidio denuncian academicos de la unam e inah httpstcogkrrkmhtao via pcmnoticias',\n",
       " 'rt hugoromerom today we professors of international trade law in the faculty of law unam held a very productive meeting chaired by r',\n",
       " 'la universidad nacional autonoma de mexico unam esta entre las mejores  universidades del mundo y es la mejor httpstcoqwyjleccvz',\n",
       " 'rt salmon quimicaeuskadi daniepap ahora lo entiendo todo httpstcozrsnaixw',\n",
       " 'rt sinembargomx la unam se posiciona como la mejor institucion de educacion superior de america latina segun el qs world university rank',\n",
       " 'artista nahua gana reconocimiento en inglaterra httpstcozwfgcsdax',\n",
       " 'nuevo ranking ubica a la unam en el top  del mundo httpstcounhsjtrdmf',\n",
       " 'rt maeltoto unam encabeza lista de las mejores universidades de america latina httpstcofqprwrx',\n",
       " 'por aca nos pueden seguir en vivo',\n",
       " 'rt cantabro consultora internacional posiciona a unam como la mejor de al httpstcodvpozpyvro',\n",
       " 'rt pajaropolitico la unammx numero  en america latina y entre las mejores  universidades del mundo worlduniranking  httpstco',\n",
       " 'rt gchampini machos urrrdur olha esse post it aqui no banheiro falando sobre feminismo uuuuh tamo sendo atacado ai socorro ataque femin',\n",
       " 'rt lriveroweber feb de  nace jose vasconcelos abogado politico escritor o rector de la universidad nacional y fundador de la',\n",
       " 'rt leonardocurzio la universidad nacional transparente  por ciento inai gacetaunam httpstcoychzodpsz',\n",
       " 'rt gacetaunam la unam lidera a las universidades de america latina coloca dos programas entre los  mejores del mundo de acuerdo con',\n",
       " 'rt gacetaunam diamundialdeltrasplante sabias que el primer transplante de corazon en mexico lo hizo un medico de la unam hace  a',\n",
       " 'rt javierqtapia apreciable comunidad comparto mi articulo codigo de etica un codigo de voluntad publicado en revista hechos y derecho',\n",
       " 'gacetaunam orgullo azul y oro la historia de mexico tambien va de la mano de la historia de la unam',\n",
       " 'excelsior me gustaria q fuera la unam o la la de chapingo por q como no dicen el nombre parece q estan adivinando cual es',\n",
       " 'rt javierqtapia apreciable comunidad comparto mi articulo el trinomio anticorrupcion publicado en revista hechos y derechos de querid',\n",
       " 'rt comentamah se eu posso dar um conselho pra torcida das gemeas e voces sao uma torcida grande voces sao numerosos voces ate fazem a',\n",
       " 'rt iconoveracruz enterate nacionales revistaiconover la unam se posiciona en el puesto numero uno en lista de mejores',\n",
       " 'sigue la transmision de la segunda sesion del ciclo de conferencias sobre movilidades contemporaneas y derecho de a httpstcoxmtmluww',\n",
       " 'rt felipecalderon el tren maya si es un ecocidio denuncian academicos de la unam e inah httpstcogkrrkmhtao via pcmnoticias',\n",
       " 'la unam encabeza lista de las mejores universidades de latinoamerica eleconomista  httpstcotemhvsdrf',\n",
       " 'rt jalfonsoherrera ensayo de algunos ayeres para un homenajetribunal constitucional y union europea el caso espanol a proposito de l',\n",
       " 'rt lriveroweber feb de  nace jose vasconcelos abogado politico escritor o rector de la universidad nacional y fundador de la',\n",
       " 'rt econokafka con anteojeras ideologicas bien puestas taibo destruye el prestigio de el trimestre economico de fcemexico de journal',\n",
       " 'unam encabeza lista de las mejores universidades de america latina httpstcoylnegxutk',\n",
       " 'unam encabeza lista de las mejores universidades de america latina httpstcovfvdrksxzg',\n",
       " 'unam encabeza lista de las mejores universidades de america latina httpstcogylmqji',\n",
       " 'unam encabeza lista de las mejores universidades de america latina httpstcoexrpgvsc',\n",
       " 'unam encabeza lista de las mejores universidades de america latina httpstcowznncnjrc',\n",
       " 'rt locatelmx undiacomohoy de  nacio el ensayista y politico mexicano jose vasconcelos titular de la secretaria de instruccion pub',\n",
       " 'rt felipecalderon el tren maya si es un ecocidio denuncian academicos de la unam e inah httpstcogkrrkmhtao via pcmnoticias',\n",
       " 'lidera la unam lista de mejores universidades de alhttpstconpvhfqbde acuerdo con el qs world university httpstcoqneskgtr',\n",
       " 'rt raulcontrerasmx nuevo ranking ubica a la unam en el top  del mundo httpstcodwndgijfn httpstcosulkszgpzi',\n",
       " 'rt felipecalderon el tren maya si es un ecocidio denuncian academicos de la unam e inah httpstcogkrrkmhtao via pcmnoticias',\n",
       " 'rt forotv ya viste la tabla periodica gigante en la unam httpstcoblphujyp httpstcovtpinngd',\n",
       " 'rt gcerveravalee la unammx revisara la reforma hacendariahttpstcofzmgdtyu',\n",
       " 'el desplegado suscrito por investigadores del iest itam uam unam colmex y funcionarios de banxico entre ellos httpstcojynpobpwd',\n",
       " 'un articulo de los amigos de mecate tabla periodica gigante en la unam httpstcoptboenrxa',\n",
       " 'rt felipecalderon el tren maya si es un ecocidio denuncian academicos de la unam e inah httpstcogkrrkmhtao via pcmnoticias',\n",
       " 'rt felipecalderon el tren maya si es un ecocidio denuncian academicos de la unam e inah httpstcogkrrkmhtao via pcmnoticias',\n",
       " 'diferenciacion en hijos de padresdivorciados y de padres que viven juntos se presenta una breve discusion acerc httpstcousiirjhq',\n",
       " 'undiacomohoy pero de  nace en oaxaca el abogado politico escritor educador funcionario publico y filosofo httpstcodkjtmrxcsw',\n",
       " 'arriba la inclusion profesor con discapacidad firma contrato con la unamhttpstconsjvlwd',\n",
       " 'unam revisara la reforma hacendaria httpstcoprsoqhuy',\n",
       " 'nike pumas unam    rd match jersey azul marino s httpstcowhpetmrg gt puedes encontrar una lis httpstcoriamftx',\n",
       " 'rt alfondiabolo orgullo unam la universidad nacional autonoma de mexico se posiciona como la mejor institucion d educacion superior d am',\n",
       " 'el centro de estudios en administracion publica presente en la fil ',\n",
       " 'rt pajaropolitico la unammx numero  en america latina y entre las mejores  universidades del mundo worlduniranking  httpstco',\n",
       " 'america la unam se coloca como la mejor de latinoamerica y esta entre las  mejores del mundo httpstcoizxvywos',\n",
       " 'agendaflacso asiste al seminario immigration demand and the boomerang of deportation policies was the central am httpstcogavwoaoeyq',\n",
       " 'rt felipecalderon el tren maya si es un ecocidio denuncian academicos de la unam e inah httpstcogkrrkmhtao via pcmnoticias',\n",
       " 'unam primer lugar en america latinaorgullounam',\n",
       " 'rt ororadio consulta aqui todos los detalles que compartio benjamin alonso smith arango rector de la urseoaxaca sobre los cursos que',\n",
       " 'rt gacetaunam el corazon  de la quimica en el corazon de la unam nota y galeria de fotoshttpstcowgsezbaga',\n",
       " 'rt iijunam sigue la transmision en vivo del er congreso nacional la administracion publica de la cuarta transformacionjuridicasenvi',\n",
       " 'rt pajaropolitico la unammx numero  en america latina y entre las mejores  universidades del mundo worlduniranking  httpstco',\n",
       " 'rt communicare buen dia a todosestamos contentos de comunicarles que ya tenemos confirmados para nuestra jornada de periodismo digi',\n",
       " 'el desplegado suscrito por investigadores del itesm itam uam unam colmex y funcionarios de banxico entre ello httpstcoyckewuypl',\n",
       " 'rt bpogobmx desde nuestra maxima casa de estudios jose vasconcelos configuro el proyecto de la sepmx este dia te invitamos a consulta',\n",
       " 'nacional de acuerdo con el ranking realizado por el qs world university ranking la unammx se coloco como la me httpstcoanwlrhscaw',\n",
       " 'determinacion del salario base de cotizacion y el efecto de la uma para  httpstcoasluo colaboracion d httpstcoztzkqapzwp',\n",
       " 'rt pajaropolitico la unammx numero  en america latina y entre las mejores  universidades del mundo worlduniranking  httpstco',\n",
       " 'ya fueron a ver la nueva cara de la facultad de quimica',\n",
       " 'por mi raza hablara el espiritu el despertar de una larga noche de opresion vasconcelos httpstcogvhadmfzn',\n",
       " 'hoy en sinergia tecnologica nos acompana en entrevista telefonica luis aguilar del instituto de geofisica de la una httpstcoqdcbkojl',\n",
       " 'medicamento contra el cancer creado por la unam sera probado en humanos httpstcovaifrjyzq httpstcoutrgrtqhg',\n",
       " 'rt bpogobmx desde nuestra maxima casa de estudios jose vasconcelos configuro el proyecto de la sepmx este dia te invitamos a consulta',\n",
       " 'ninaromano para darle un ilustracion la carrera en administracion publica de elcolmex una de las mejores del p httpstcoylvagraz',\n",
       " 'undiacomohoy pero de  nace en oaxaca el abogado politico escritor educador funcionario publico y filosofo httpstcoexlrzztfia',\n",
       " 'rt gacetaunam la unam lidera a las universidades de america latina coloca dos programas entre los  mejores del mundo de acuerdo con',\n",
       " 'rt diariohoras la unammx tiene mas licenciaturas en el top  que cualquier otra universidad de la regionhttpstcoqbwryhssf',\n",
       " 'un articulo interesante del equipo de tabla periodica gigante en la unam httpstcosfdyunvce',\n",
       " 'rt quimicaunam tabla periodica monumental de  m en la facultad de quimica de la universidad nacional autonoma de mexico httpstc',\n",
       " 'rt pajaropolitico la unammx numero  en america latina y entre las mejores  universidades del mundo worlduniranking  httpstco',\n",
       " 'no es el primero por lo menos conozco  que ya trabajan ahi httpstcoshmfyxgb',\n",
       " 'nacionallidera la unam lista de mejores universidades de almas informacion aqui httpstcopohzoiqik httpstcoeppmfpkn',\n",
       " 'a warm welcome for our uukintl delegation at unam in mexico city  beautiful campus and really interesting discuss httpstcopvrqmpsj',\n",
       " 'audienciaspublicas angel celorio guevara maestro en derecho laboral por la unam senala que es evidente la trasce httpstcoajcfwgiti',\n",
       " 'rt lajornadaonline cu emitio  toneladas metricas de dioxido de carbono equivalentes mtco eq de acuerdo con el inventario de gas',\n",
       " 'en el comedor de la unam facultad de ingenieria obera empezaron a suplantar la carne vacuna con carne de cerdo httpstcolirkpawiv',\n",
       " 'el espiritu de una revista academica implica en el marco del respeto a la libertad de ideas aceptar articulos par httpstcowmyqeqfwc',\n",
       " 'es mas algunas carreras tienen materias extracurricular economicas en mnes como potugues e ingles y para los ch httpstcocnswpgbut',\n",
       " 'for those who happen to be in mexico i am presenting our latest research with realdleblang at flacso mexico next httpstcorryzfrbtyk',\n",
       " 'rt pajaropolitico la unammx numero  en america latina y entre las mejores  universidades del mundo worlduniranking  httpstco',\n",
       " 'lidera la unam lista de mejores universidades de al httpstcoesxbvuqctu',\n",
       " 'el tren maya si es un ecocidio denuncian academicos de la unam e inah httpstcofgjzvlmaa via pcmnoticias',\n",
       " 'rt chilangocom de tu arte a mi arte prefiero la tabla periodica gigante que pusieron en la unam httpstcocrbvheqp',\n",
       " 'rt oscargonzalezya en la firma del convenio entre la unam y la camara de diputados mxdiputados el papel de la unam en la vida publi',\n",
       " 'la unam se contradice y desacredita a equipo femenil que denuncio hostigamiento httpstcohstftnuxsf httpstcojsvorbhf',\n",
       " 'eluniversalmx ahi van otra vez poder absoluto es lo q amlo quiere no sea que lo critiquen el buen nombre httpstcoadlugcl',\n",
       " 'ya vienen convocatoria de inscripcion a los cursos y talleres para el trimestre abril  junio  de casa del la httpstcotztmpsvnqo',\n",
       " 'rt macunaimaz a noite o povo venezuelano se ajoelhou diante de deus diante do bloqueio imposto por maduro para que as portas se abrissem',\n",
       " 'rt unamfcpys   sigue la transmision en vivo del to ciclo de conferencias sobre gobernanza electoral httpstcoqblpwhjnc cep']"
      ]
     },
     "execution_count": 12,
     "metadata": {},
     "output_type": "execute_result"
    }
   ],
   "source": [
    "cleaned_tweets"
   ]
  },
  {
   "cell_type": "code",
   "execution_count": 13,
   "metadata": {},
   "outputs": [
    {
     "data": {
      "text/plain": [
       "200"
      ]
     },
     "execution_count": 13,
     "metadata": {},
     "output_type": "execute_result"
    }
   ],
   "source": [
    "len(cleaned_tweets)"
   ]
  },
  {
   "cell_type": "markdown",
   "metadata": {},
   "source": [
    "# Dormir con tus datos"
   ]
  },
  {
   "cell_type": "code",
   "execution_count": 14,
   "metadata": {},
   "outputs": [],
   "source": [
    "%matplotlib inline\n",
    "\n",
    "from pprint import pprint\n",
    "import pandas as pd"
   ]
  },
  {
   "cell_type": "code",
   "execution_count": 42,
   "metadata": {},
   "outputs": [],
   "source": [
    "KEYWORD = 'mexico'"
   ]
  },
  {
   "cell_type": "markdown",
   "metadata": {},
   "source": [
    "### Primeros 10 tweets"
   ]
  },
  {
   "cell_type": "code",
   "execution_count": 16,
   "metadata": {
    "collapsed": true
   },
   "outputs": [
    {
     "name": "stdout",
     "output_type": "stream",
     "text": [
      "['la unam estudia impacto de videojuegos en la sociedad unamglobal gt '\n",
      " 'httpstcokyuxygfwk httpstcoozufksxr',\n",
      " 'vinculacion unam morelia invita al concierto de la agrupacion bola suriana '\n",
      " 'hoy a las  en el auditorio de la httpstcowvapxypr',\n",
      " 'la unam estudia impacto de videojuegos en la sociedad unamglobal gt '\n",
      " 'httpstcouendpuhf httpstcofjnjx',\n",
      " 'rt pajaropolitico la unammx numero  en america latina y entre las mejores  '\n",
      " 'universidades del mundo worlduniranking  httpstco',\n",
      " 'asamblea de profesores de la unam  exigen justicia por el asesinato de '\n",
      " 'samirflores aguasitermono httpstcozzaahxqala',\n",
      " 'rt gacetaunam el corazon  de la quimica en el corazon de la unam nota y '\n",
      " 'galeria de fotoshttpstcowgsezbaga',\n",
      " 'rt econokafka con anteojeras ideologicas bien puestas taibo destruye el '\n",
      " 'prestigio de el trimestre economico de fcemexico de journal',\n",
      " 'rt queretanizate corregidora primer municipio del estado en ofrecer '\n",
      " 'termografias para la deteccion del cancer de mamaesto gracias',\n",
      " 'venezuelagritalibertad',\n",
      " 'rt territoriopumas proceso de elaboracion del telon disenado por los hinchas '\n",
      " 'de la rebel del equipo de los pumas de la unam cdmx hecho']\n"
     ]
    }
   ],
   "source": [
    "pprint(cleaned_tweets[:10])"
   ]
  },
  {
   "cell_type": "markdown",
   "metadata": {},
   "source": [
    "### ¿Cuantas veces aparece la palabra clave?"
   ]
  },
  {
   "cell_type": "code",
   "execution_count": 43,
   "metadata": {},
   "outputs": [
    {
     "name": "stdout",
     "output_type": "stream",
     "text": [
      "Nuestra palabra clave aparece: 30 veces\n"
     ]
    }
   ],
   "source": [
    "number_of_occurences = sum(KEYWORD in tweet for tweet in cleaned_tweets)\n",
    "print('Nuestra palabra clave aparece: {} veces'.format(number_of_occurences))"
   ]
  },
  {
   "cell_type": "markdown",
   "metadata": {},
   "source": [
    "### ¿Con cual frecuencia apareció?"
   ]
  },
  {
   "cell_type": "code",
   "execution_count": 44,
   "metadata": {},
   "outputs": [
    {
     "name": "stdout",
     "output_type": "stream",
     "text": [
      "Nuestra palabra clave apareció en: 15.0% de los tweets\n"
     ]
    }
   ],
   "source": [
    "print('Nuestra palabra clave apareció en: {}% de los tweets'.format(100 * number_of_occurences/NUMBER_OF_TWEETS))"
   ]
  },
  {
   "cell_type": "markdown",
   "metadata": {},
   "source": [
    "### ¿Cómo son los tweets que la contienen?"
   ]
  },
  {
   "cell_type": "code",
   "execution_count": 45,
   "metadata": {},
   "outputs": [
    {
     "name": "stdout",
     "output_type": "stream",
     "text": [
      "['rt econokafka con anteojeras ideologicas bien puestas taibo destruye el '\n",
      " 'prestigio de el trimestre economico de fcemexico de journal',\n",
      " 'rt alfondiabolo orgullo unam la universidad nacional autonoma de mexico se '\n",
      " 'posiciona como la mejor institucion d educacion superior d am',\n",
      " 'la espiga escultura de rufino tamayo en el ccu en cu unam mexico cdmx unammx '\n",
      " 'arte cultura httpstcouyaqozhs',\n",
      " 'rt cccmexico registrate para particpar en las actividades gratuitas de la '\n",
      " 'catedrabergman en el marco de ficunam httpstcohhnnykneac',\n",
      " 'rt cccmexico estamos a un dia de ficunam la entrada es libre planea tu '\n",
      " 'agenda y llega con tiempo  httpstcodinjwbbvk https',\n",
      " 'rt gacetaunam diamundialdeltrasplante sabias que el primer transplante de '\n",
      " 'corazon en mexico lo hizo un medico de la unam hace  a',\n",
      " 'rt econokafka con anteojeras ideologicas bien puestas taibo destruye el '\n",
      " 'prestigio de el trimestre economico de fcemexico de journal',\n",
      " 'rt gacetaunam diamundialdeltrasplante sabias que el primer transplante de '\n",
      " 'corazon en mexico lo hizo un medico de la unam hace  a',\n",
      " 'rt iksnilepoguh mientras tanto en la unam pero de mexico httpstcoeubslzoyb',\n",
      " 'rt econokafka con anteojeras ideologicas bien puestas taibo destruye el '\n",
      " 'prestigio de el trimestre economico de fcemexico de journal',\n",
      " 'rt quimicaunam tabla periodica monumental de  m en la facultad de quimica de '\n",
      " 'la universidad nacional autonoma de mexico httpstc',\n",
      " 'rt xquipiguiedani ficunam trae para ti el estreno de el ombligo de guiedani '\n",
      " 'xquipi guiedani en la ciudad de mexicoconoce mas sob',\n",
      " 'rt ciegunam quieres saber mas sobre el feminismo en mexicodescarga de manera '\n",
      " 'gratuita y en formato pdf este libro y conoce mas al res',\n",
      " 'ser poeta en mexico es una vocacion httpstcozxdytdzqp',\n",
      " 'rt alfondiabolo orgullo unam la universidad nacional autonoma de mexico se '\n",
      " 'posiciona como la mejor institucion d educacion superior d am',\n",
      " 'rt iksnilepoguh mientras tanto en la unam pero de mexico httpstcoeubslzoyb',\n",
      " 'rt cccmexico registrate para particpar en las actividades gratuitas de la '\n",
      " 'catedrabergman en el marco de ficunam httpstcohhnnykneac',\n",
      " 'rt gacetaunam diamundialdeltrasplante sabias que el primer transplante de '\n",
      " 'corazon en mexico lo hizo un medico de la unam hace  a',\n",
      " 'rt quimicaunam tabla periodica monumental de  m en la facultad de quimica de '\n",
      " 'la universidad nacional autonoma de mexico httpstc',\n",
      " 'rt alfondiabolo orgullo unam la universidad nacional autonoma de mexico se '\n",
      " 'posiciona como la mejor institucion d educacion superior d am',\n",
      " 'undiacomohoy pero de  nacio jose vasconcelos uno de los grandes impulsores '\n",
      " 'de la educacion en mexico su tr httpstcowdzlnchwxl',\n",
      " 'rt alfondiabolo orgullo unam la universidad nacional autonoma de mexico se '\n",
      " 'posiciona como la mejor institucion d educacion superior d am',\n",
      " 'la universidad nacional autonoma de mexico unam esta entre las mejores  '\n",
      " 'universidades del mundo y es la mejor httpstcoqwyjleccvz',\n",
      " 'rt gacetaunam diamundialdeltrasplante sabias que el primer transplante de '\n",
      " 'corazon en mexico lo hizo un medico de la unam hace  a',\n",
      " 'gacetaunam orgullo azul y oro la historia de mexico tambien va de la mano de '\n",
      " 'la historia de la unam',\n",
      " 'rt econokafka con anteojeras ideologicas bien puestas taibo destruye el '\n",
      " 'prestigio de el trimestre economico de fcemexico de journal',\n",
      " 'rt alfondiabolo orgullo unam la universidad nacional autonoma de mexico se '\n",
      " 'posiciona como la mejor institucion d educacion superior d am',\n",
      " 'rt quimicaunam tabla periodica monumental de  m en la facultad de quimica de '\n",
      " 'la universidad nacional autonoma de mexico httpstc',\n",
      " 'a warm welcome for our uukintl delegation at unam in mexico city  beautiful '\n",
      " 'campus and really interesting discuss httpstcopvrqmpsj',\n",
      " 'for those who happen to be in mexico i am presenting our latest research '\n",
      " 'with realdleblang at flacso mexico next httpstcorryzfrbtyk']\n"
     ]
    }
   ],
   "source": [
    "pprint([tweet for tweet in cleaned_tweets if KEYWORD in tweet])"
   ]
  },
  {
   "cell_type": "markdown",
   "metadata": {},
   "source": [
    "### ¿Cuál es la distancia promedia entre ocurrencias consecutivas?"
   ]
  },
  {
   "cell_type": "code",
   "execution_count": 46,
   "metadata": {},
   "outputs": [],
   "source": [
    "indices_of_tweets_containing_keyword = [index for index, tweet in enumerate(cleaned_tweets) if KEYWORD in tweet]"
   ]
  },
  {
   "cell_type": "code",
   "execution_count": 47,
   "metadata": {},
   "outputs": [
    {
     "data": {
      "text/plain": [
       "[6,\n",
       " 12,\n",
       " 14,\n",
       " 17,\n",
       " 24,\n",
       " 26,\n",
       " 31,\n",
       " 32,\n",
       " 40,\n",
       " 42,\n",
       " 43,\n",
       " 58,\n",
       " 63,\n",
       " 64,\n",
       " 67,\n",
       " 74,\n",
       " 78,\n",
       " 81,\n",
       " 84,\n",
       " 88,\n",
       " 92,\n",
       " 93,\n",
       " 105,\n",
       " 118,\n",
       " 120,\n",
       " 130,\n",
       " 152,\n",
       " 179,\n",
       " 183,\n",
       " 189]"
      ]
     },
     "execution_count": 47,
     "metadata": {},
     "output_type": "execute_result"
    }
   ],
   "source": [
    "indices_of_tweets_containing_keyword"
   ]
  },
  {
   "cell_type": "code",
   "execution_count": 48,
   "metadata": {},
   "outputs": [],
   "source": [
    "distances_between_indices_of_tweets_containing_keyword = [\n",
    "    second_index - first_index for first_index, second_index in \\\n",
    "        zip(indices_of_tweets_containing_keyword[:-1], indices_of_tweets_containing_keyword[1:])\n",
    "]"
   ]
  },
  {
   "cell_type": "code",
   "execution_count": 49,
   "metadata": {},
   "outputs": [
    {
     "data": {
      "text/plain": [
       "<matplotlib.axes._subplots.AxesSubplot at 0x22b00563a90>"
      ]
     },
     "execution_count": 49,
     "metadata": {},
     "output_type": "execute_result"
    },
    {
     "data": {
      "image/png": "[encoded data removed]",
      "text/plain": [
       "<Figure size 432x288 with 1 Axes>"
      ]
     },
     "metadata": {
      "needs_background": "light"
     },
     "output_type": "display_data"
    }
   ],
   "source": [
    "pd.Series(distances_between_indices_of_tweets_containing_keyword).hist()"
   ]
  },
  {
   "cell_type": "markdown",
   "metadata": {},
   "source": [
    "# Construir un modelo"
   ]
  },
  {
   "cell_type": "code",
   "execution_count": 50,
   "metadata": {},
   "outputs": [],
   "source": [
    "import matplotlib.pyplot as plt\n",
    "import numpy as np\n",
    "from scipy.stats import beta as beta_distribution"
   ]
  },
  {
   "cell_type": "markdown",
   "metadata": {},
   "source": [
    "### Definir los parámetros de un Beta Distribution"
   ]
  },
  {
   "cell_type": "code",
   "execution_count": 51,
   "metadata": {},
   "outputs": [],
   "source": [
    "alpha = 1 + number_of_occurences\n",
    "beta = 1 + (NUMBER_OF_TWEETS - number_of_occurences)\n",
    "\n",
    "x_values = np.linspace(0, 1, 1002)[1:-1]\n",
    "pdf_y_values = beta_distribution(alpha, beta).pdf(x_values)\n",
    "cdf_y_values = np.cumsum(pdf_y_values) / np.sum(pdf_y_values)"
   ]
  },
  {
   "cell_type": "markdown",
   "metadata": {},
   "source": [
    "### Visualizar"
   ]
  },
  {
   "cell_type": "markdown",
   "metadata": {},
   "source": [
    "![](http://i.imgur.com/mj059cS.png)"
   ]
  },
  {
   "cell_type": "code",
   "execution_count": 52,
   "metadata": {
    "scrolled": false
   },
   "outputs": [
    {
     "data": {
      "image/png": "[encoded data removed]",
      "text/plain": [
       "<Figure size 1296x432 with 2 Axes>"
      ]
     },
     "metadata": {
      "needs_background": "light"
     },
     "output_type": "display_data"
    }
   ],
   "source": [
    "plt.figure(figsize=(18, 6))\n",
    "\n",
    "# PDF\n",
    "plt.subplot(121)\n",
    "\n",
    "plt.plot(x_values, pdf_y_values, label=(r'$\\alpha=%.1f,\\ \\beta=%.1f$' % (alpha, beta)))\n",
    "\n",
    "plt.xlim(0, 1)\n",
    "plt.xlabel('Probability of tweet containing keyword')\n",
    "plt.ylabel('Probability density')\n",
    "plt.title('Beta Distribution PDF')\n",
    "plt.legend(loc=1)\n",
    "\n",
    "\n",
    "# CDF\n",
    "plt.subplot(122)\n",
    "\n",
    "plt.plot(x_values, cdf_y_values)\n",
    "\n",
    "plt.xlim(0, 1)\n",
    "plt.ylim(0, 1.005)\n",
    "plt.yticks(np.linspace(0, 1, 21))\n",
    "plt.xlabel('Probability of tweet containing keyword')\n",
    "plt.ylabel('Cumulative probability')\n",
    "plt.title('Beta Distribution CDF')\n",
    "\n",
    "plt.show()"
   ]
  },
  {
   "cell_type": "markdown",
   "metadata": {},
   "source": [
    "# Comunicar resultados"
   ]
  },
  {
   "cell_type": "markdown",
   "metadata": {},
   "source": [
    "### Con 90% de certeza, digamos que la verdadera probabilidad:"
   ]
  },
  {
   "cell_type": "code",
   "execution_count": 53,
   "metadata": {},
   "outputs": [],
   "source": [
    "fifth_percentile = max(\n",
    "    [x_value for x_value, y_value in zip(x_values, cdf_y_values) if y_value <= .05]\n",
    ")\n",
    "\n",
    "ninety_fifth_percentile = max(\n",
    "    [x_value for x_value, y_value in zip(x_values, cdf_y_values) if y_value <= .95]\n",
    ")"
   ]
  },
  {
   "cell_type": "code",
   "execution_count": 54,
   "metadata": {},
   "outputs": [
    {
     "name": "stdout",
     "output_type": "stream",
     "text": [
      "Con 90% de certeza digamos que la verdadera probabilidad se encuentra entre: 0.1129 y 0.1958\n"
     ]
    }
   ],
   "source": [
    "print('Con 90% de certeza digamos que la verdadera probabilidad se encuentra entre: {} y {}'.format(\n",
    "    round(fifth_percentile, 4), round(ninety_fifth_percentile, 4)))"
   ]
  },
  {
   "cell_type": "markdown",
   "metadata": {},
   "source": [
    "### La probabilidad que la verdadera probabilidad (de que un tweet contiene nuesta palabra clave) sea más grande de .1:"
   ]
  },
  {
   "cell_type": "code",
   "execution_count": 55,
   "metadata": {},
   "outputs": [],
   "source": [
    "def compute_total_probability_that_probability_less_than_p(p):\n",
    "    return max(cumulative_prob for cumulative_prob, x_value in zip(cdf_y_values, x_values) if x_value < p)"
   ]
  },
  {
   "cell_type": "code",
   "execution_count": 56,
   "metadata": {},
   "outputs": [
    {
     "name": "stdout",
     "output_type": "stream",
     "text": [
      "La probabilidad que la verdadera probabilidad es > .1 es: 0.9892564725690205\n"
     ]
    }
   ],
   "source": [
    "print('La probabilidad que la verdadera probabilidad es > .1 es: {}'.format(\n",
    "    1 - compute_total_probability_that_probability_less_than_p(.1))\n",
    ")"
   ]
  },
  {
   "cell_type": "code",
   "execution_count": null,
   "metadata": {},
   "outputs": [],
   "source": []
  }
 ],
 "metadata": {
  "kernelspec": {
   "display_name": "Python 3",
   "language": "python",
   "name": "python3"
  },
  "language_info": {
   "codemirror_mode": {
    "name": "ipython",
    "version": 3
   },
   "file_extension": ".py",
   "mimetype": "text/x-python",
   "name": "python",
   "nbconvert_exporter": "python",
   "pygments_lexer": "ipython3",
   "version": "3.7.1"
  }
 },
 "nbformat": 4,
 "nbformat_minor": 1
}
